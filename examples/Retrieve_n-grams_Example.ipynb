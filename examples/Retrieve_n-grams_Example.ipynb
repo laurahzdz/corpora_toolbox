{
 "cells": [
  {
   "cell_type": "markdown",
   "metadata": {},
   "source": [
    "## Retrieve n-grams: Example"
   ]
  },
  {
   "cell_type": "markdown",
   "metadata": {},
   "source": [
    "This example tests the extraction of n-grams from a tagged text. The tagged text must be provided as a list of \"tag\" objects (from the corpora_toolbox.nlp.freeling_module).\n",
    "\n",
    "The retrieve_n_grams fucntion from the corpora_toolbox.nlp.NLP_classics has the following particularities:\n",
    "1. It extracts n-grams taking into account the period (indicated by the tagger as \"Fp\") as a sentence separator. This means that two words that are separated by a perdiod identified as a sentence breaker by a tagger, won't be a part of the same n-gram. For example, in \"I am happy. The sun is shinning.\", there won't be \"happy_the as a bigram, since the sentence has a basic chunker based on the preriod sign.\n",
    "2. The retriever "
   ]
  },
  {
   "cell_type": "markdown",
   "metadata": {},
   "source": [
    "#### Setting the relative path for importing the corpora_toolbox "
   ]
  },
  {
   "cell_type": "code",
   "execution_count": 1,
   "metadata": {},
   "outputs": [],
   "source": [
    "import platform\n",
    "import sys\n",
    "\n",
    "if platform.platform().lower().startswith(\"windows\"):\n",
    "    relative_path=\"..\\\\\\\\\"\n",
    "else:\n",
    "    relative_path=\"../\"\n",
    "\n",
    "sys.path.append(relative_path)\n"
   ]
  },
  {
   "cell_type": "markdown",
   "metadata": {},
   "source": [
    "#### Importing functions"
   ]
  },
  {
   "cell_type": "code",
   "execution_count": 2,
   "metadata": {},
   "outputs": [],
   "source": [
    "from corpora_toolbox.nlp.freeling_module import tag\n",
    "from corpora_toolbox.nlp.NLP_classics import retrieve_n_grams\n",
    "from collections import Counter"
   ]
  },
  {
   "cell_type": "markdown",
   "metadata": {
    "collapsed": true
   },
   "source": [
    "### Create a list of Tag objects"
   ]
  },
  {
   "cell_type": "markdown",
   "metadata": {},
   "source": [
    "From the phrase \"Verónica has a dog, and a cat, and a mouse, and an alligator. Laura has a rabbit.\"\n",
    "POS tags: \n",
    "    N = noun\n",
    "    V = verb\n",
    "    D = determinant\n",
    "    F = Punctuation Sign\n",
    "        Fc = comma\n",
    "        Fp = period\n",
    "    C = conjunction"
   ]
  },
  {
   "cell_type": "code",
   "execution_count": 3,
   "metadata": {},
   "outputs": [],
   "source": [
    "list_of_tags = []\n",
    "\n",
    "t = tag(\"Veronica\", \"veronica\", \"N\")\n",
    "list_of_tags.append(t)\n",
    "\n",
    "t = tag(\"has\", \"have\", \"V\")\n",
    "list_of_tags.append(t)\n",
    "\n",
    "t = tag(\"a\", \"a\", \"D\")\n",
    "list_of_tags.append(t)\n",
    "\n",
    "t = tag(\"dog\", \"dog\", \"N\")\n",
    "list_of_tags.append(t)\n",
    "\n",
    "t = tag(\",\", \",\", \"Fc\")\n",
    "list_of_tags.append(t)\n",
    "\n",
    "t = tag(\"and\", \"and\", \"C\")\n",
    "list_of_tags.append(t)\n",
    "\n",
    "t = tag(\"a\", \"a\", \"D\")\n",
    "list_of_tags.append(t)\n",
    "\n",
    "t = tag(\"cat\", \"cat\", \"N\")\n",
    "list_of_tags.append(t)\n",
    "\n",
    "t = tag(\",\", \",\", \"Fc\")\n",
    "list_of_tags.append(t)\n",
    "\n",
    "t = tag(\"and\", \"and\", \"C\")\n",
    "list_of_tags.append(t)\n",
    "\n",
    "t = tag(\"a\", \"a\", \"D\")\n",
    "list_of_tags.append(t)\n",
    "\n",
    "t = tag(\"mouse\", \"mouse\", \"N\")\n",
    "list_of_tags.append(t)\n",
    "\n",
    "t = tag(\",\", \",\", \"Fc\")\n",
    "list_of_tags.append(t)\n",
    "\n",
    "t = tag(\"and\", \"and\", \"C\")\n",
    "list_of_tags.append(t)\n",
    "\n",
    "t = tag(\"an\", \"a\", \"D\")\n",
    "list_of_tags.append(t)\n",
    "\n",
    "t = tag(\"animal\", \"alligator\", \"N\")\n",
    "list_of_tags.append(t)\n",
    "\n",
    "t = tag(\".\", \".\", \"Fp\")\n",
    "list_of_tags.append(t)\n",
    "\n",
    "t = tag(\"Laura\", \"laura\", \"N\")\n",
    "list_of_tags.append(t)\n",
    "\n",
    "t = tag(\"has\", \"have\", \"V\")\n",
    "list_of_tags.append(t)\n",
    "\n",
    "t = tag(\"a\", \"a\", \"D\")\n",
    "list_of_tags.append(t)\n",
    "\n",
    "t = tag(\"rabbit\", \"rabbit\", \"N\")\n",
    "list_of_tags.append(t)\n",
    "\n",
    "t = tag(\".\", \".\", \"Fp\")\n",
    "list_of_tags.append(t)"
   ]
  },
  {
   "cell_type": "markdown",
   "metadata": {},
   "source": [
    "#### First, we extract n-grams (n: 1-4), as they are in the sentence (including punctuation marks):"
   ]
  },
  {
   "cell_type": "code",
   "execution_count": 4,
   "metadata": {},
   "outputs": [
    {
     "name": "stdout",
     "output_type": "stream",
     "text": [
      "1-grams:  ['veronica', 'have', 'a', 'dog', ',', 'and', 'a', 'cat', ',', 'and', 'a', 'mouse', ',', 'and', 'a', 'alligator', 'laura', 'have', 'a', 'rabbit'] \n",
      "\n",
      "2-grams:  ['veronica', 'have', 'a', 'dog', ',', 'and', 'a', 'cat', ',', 'and', 'a', 'mouse', ',', 'and', 'a', 'alligator', 'laura', 'have', 'a', 'rabbit'] \n",
      "\n",
      "3-grams:  ['veronica', 'have', 'a', 'dog', ',', 'and', 'a', 'cat', ',', 'and', 'a', 'mouse', ',', 'and', 'a', 'alligator', 'laura', 'have', 'a', 'rabbit'] \n",
      "\n"
     ]
    }
   ],
   "source": [
    "unigrams = retrieve_n_grams(1,list_of_tags, remove_punctuation=False, lemmas=True)\n",
    "bigrams = retrieve_n_grams(2, list_of_tags, remove_punctuation=False, lemmas=True)\n",
    "trigrams = retrieve_n_grams(3, list_of_tags, remove_punctuation=False, lemmas=True)\n",
    "\n",
    "print(\"1-grams: \", unigrams, \"\\n\")\n",
    "print(\"2-grams: \", unigrams, \"\\n\")\n",
    "print(\"3-grams: \", unigrams, \"\\n\")"
   ]
  },
  {
   "cell_type": "markdown",
   "metadata": {},
   "source": [
    "#### We can opt to not consider the punctuation\n",
    "##### Important note:\n",
    "The sign of punctuation with a tag \"Fp\", representing a perdiod, will still be considered by the fucntion to separate n-grams for different sentences."
   ]
  },
  {
   "cell_type": "code",
   "execution_count": 5,
   "metadata": {},
   "outputs": [
    {
     "name": "stdout",
     "output_type": "stream",
     "text": [
      "1-grams:  ['veronica', 'have', 'a', 'dog', 'and', 'a', 'cat', 'and', 'a', 'mouse', 'and', 'a', 'alligator', 'laura', 'have', 'a', 'rabbit'] \n",
      "\n",
      "2-grams:  ['veronica', 'have', 'a', 'dog', 'and', 'a', 'cat', 'and', 'a', 'mouse', 'and', 'a', 'alligator', 'laura', 'have', 'a', 'rabbit'] \n",
      "\n",
      "3-grams:  ['veronica', 'have', 'a', 'dog', 'and', 'a', 'cat', 'and', 'a', 'mouse', 'and', 'a', 'alligator', 'laura', 'have', 'a', 'rabbit'] \n",
      "\n"
     ]
    }
   ],
   "source": [
    "unigrams = retrieve_n_grams(1,list_of_tags, remove_punctuation=True, lemmas=True)\n",
    "bigrams = retrieve_n_grams(2, list_of_tags, remove_punctuation=True, lemmas=True)\n",
    "trigrams = retrieve_n_grams(3, list_of_tags, remove_punctuation=True, lemmas=True)\n",
    "\n",
    "print(\"1-grams: \", unigrams, \"\\n\")\n",
    "print(\"2-grams: \", unigrams, \"\\n\")\n",
    "print(\"3-grams: \", unigrams, \"\\n\")"
   ]
  },
  {
   "cell_type": "markdown",
   "metadata": {},
   "source": [
    "For linguistic analysis, it is common to analyze patterns of n-grams considering only the POS tags"
   ]
  },
  {
   "cell_type": "code",
   "execution_count": 6,
   "metadata": {},
   "outputs": [
    {
     "name": "stdout",
     "output_type": "stream",
     "text": [
      "1-grams:  ['N', 'V', 'D', 'N', 'C', 'D', 'N', 'C', 'D', 'N', 'C', 'D', 'N', 'N', 'V', 'D', 'N'] \n",
      "\n",
      "2-grams:  ['N_V', 'V_D', 'D_N', 'N_C', 'C_D', 'D_N', 'N_C', 'C_D', 'D_N', 'N_C', 'C_D', 'D_N', 'N_V', 'V_D', 'D_N'] \n",
      "\n",
      "3-grams:  ['N_V_D', 'V_D_N', 'D_N_C', 'N_C_D', 'C_D_N', 'D_N_C', 'N_C_D', 'C_D_N', 'D_N_C', 'N_C_D', 'C_D_N', 'N_V_D', 'V_D_N'] \n",
      "\n"
     ]
    }
   ],
   "source": [
    "unigrams = retrieve_n_grams(1,list_of_tags, remove_punctuation=True, only_tags=True)\n",
    "bigrams = retrieve_n_grams(2, list_of_tags, remove_punctuation=True, only_tags=True)\n",
    "trigrams = retrieve_n_grams(3, list_of_tags, remove_punctuation=True, only_tags=True)\n",
    "\n",
    "print(\"1-grams: \", unigrams, \"\\n\")\n",
    "print(\"2-grams: \", bigrams, \"\\n\")\n",
    "print(\"3-grams: \", trigrams, \"\\n\")"
   ]
  },
  {
   "cell_type": "code",
   "execution_count": null,
   "metadata": {
    "collapsed": true
   },
   "outputs": [],
   "source": []
  },
  {
   "cell_type": "code",
   "execution_count": null,
   "metadata": {
    "collapsed": true
   },
   "outputs": [],
   "source": []
  }
 ],
 "metadata": {
  "kernelspec": {
   "display_name": "Python 3",
   "language": "python",
   "name": "python3"
  },
  "language_info": {
   "codemirror_mode": {
    "name": "ipython",
    "version": 3
   },
   "file_extension": ".py",
   "mimetype": "text/x-python",
   "name": "python",
   "nbconvert_exporter": "python",
   "pygments_lexer": "ipython3",
   "version": "3.6.0"
  }
 },
 "nbformat": 4,
 "nbformat_minor": 2
}
